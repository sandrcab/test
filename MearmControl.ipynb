{
 "cells": [
  {
   "cell_type": "code",
   "execution_count": null,
   "metadata": {
    "collapsed": true
   },
   "outputs": [],
   "source": []
  },
  {
   "cell_type": "code",
   "execution_count": 4,
   "metadata": {},
   "outputs": [
    {
     "name": "stdout",
     "output_type": "stream",
     "text": [
      "l0(transl(.0,.0,0.0)*rotz(s:b1)*transl(0.8,.0,.0)*rotx(0.0))\n",
      "Grip open\n",
      "Grip close\n",
      "Grip open\n",
      "Grip close\n",
      "Grip open\n",
      "Moving to: (-0.8, 1.0, 1.4)\n"
     ]
    },
    {
     "data": {
      "text/plain": [
       "{b1: 0.0, e1: 0.0, g1: 0.0, s1: 0.0}"
      ]
     },
     "metadata": {},
     "output_type": "display_data"
    },
    {
     "name": "stdout",
     "output_type": "stream",
     "text": [
      "***** Frame: O\n"
     ]
    },
    {
     "data": {
      "text/plain": [
       "Matrix([\n",
       "[1.0, 0.0, 0.0, 0.0],\n",
       "[0.0, 1.0, 0.0, 0.0],\n",
       "[0.0, 0.0, 1.0, 0.0],\n",
       "[0.0, 0.0, 0.0, 1.0]])"
      ]
     },
     "metadata": {},
     "output_type": "display_data"
    },
    {
     "data": {
      "text/plain": [
       "Matrix([\n",
       "[1.0, 0.0, 0.0, 0.0],\n",
       "[0.0, 1.0, 0.0, 0.0],\n",
       "[0.0, 0.0, 1.0, 0.0],\n",
       "[0.0, 0.0, 0.0, 1.0]])"
      ]
     },
     "metadata": {},
     "output_type": "display_data"
    },
    {
     "data": {
      "text/plain": [
       "Matrix([\n",
       "[1.0, 0.0, 0.0, 0.0],\n",
       "[0.0, 1.0, 0.0, 0.0],\n",
       "[0.0, 0.0, 1.0, 0.0],\n",
       "[0.0, 0.0, 0.0, 1.0]])"
      ]
     },
     "metadata": {},
     "output_type": "display_data"
    },
    {
     "data": {
      "text/plain": [
       "Matrix([\n",
       "[0.0],\n",
       "[0.0],\n",
       "[0.0],\n",
       "[1.0]])"
      ]
     },
     "metadata": {},
     "output_type": "display_data"
    },
    {
     "data": {
      "text/plain": [
       "Matrix([\n",
       "[1.0],\n",
       "[0.0],\n",
       "[0.0],\n",
       "[1.0]])"
      ]
     },
     "metadata": {},
     "output_type": "display_data"
    },
    {
     "data": {
      "text/plain": [
       "Matrix([\n",
       "[0.0],\n",
       "[1.0],\n",
       "[0.0],\n",
       "[1.0]])"
      ]
     },
     "metadata": {},
     "output_type": "display_data"
    },
    {
     "name": "stdout",
     "output_type": "stream",
     "text": [
      "***** End frame: O\n",
      "***** Frame: l0\n"
     ]
    },
    {
     "data": {
      "text/plain": [
       "Matrix([\n",
       "[1.0, 0.0, 0.0, 0.0],\n",
       "[0.0, 1.0, 0.0, 0.0],\n",
       "[0.0, 0.0, 1.0, 0.0],\n",
       "[0.0, 0.0, 0.0, 1.0]])"
      ]
     },
     "metadata": {},
     "output_type": "display_data"
    },
    {
     "data": {
      "text/plain": [
       "Matrix([\n",
       "[cos(0.017*b1), -1.0*sin(0.017*b1), 0.0, 0.8*cos(0.017*b1)],\n",
       "[sin(0.017*b1),      cos(0.017*b1), 0.0, 0.8*sin(0.017*b1)],\n",
       "[          0.0,                0.0, 1.0,               0.0],\n",
       "[          0.0,                0.0, 0.0,               1.0]])"
      ]
     },
     "metadata": {},
     "output_type": "display_data"
    },
    {
     "data": {
      "text/plain": [
       "Matrix([\n",
       "[1.0, 0.0, 0.0, 0.8],\n",
       "[0.0, 1.0, 0.0, 0.0],\n",
       "[0.0, 0.0, 1.0, 0.0],\n",
       "[0.0, 0.0, 0.0, 1.0]])"
      ]
     },
     "metadata": {},
     "output_type": "display_data"
    },
    {
     "data": {
      "text/plain": [
       "Matrix([\n",
       "[0.8],\n",
       "[0.0],\n",
       "[0.0],\n",
       "[1.0]])"
      ]
     },
     "metadata": {},
     "output_type": "display_data"
    },
    {
     "data": {
      "text/plain": [
       "Matrix([\n",
       "[1.8],\n",
       "[0.0],\n",
       "[0.0],\n",
       "[1.0]])"
      ]
     },
     "metadata": {},
     "output_type": "display_data"
    },
    {
     "data": {
      "text/plain": [
       "Matrix([\n",
       "[0.8],\n",
       "[1.0],\n",
       "[0.0],\n",
       "[1.0]])"
      ]
     },
     "metadata": {},
     "output_type": "display_data"
    },
    {
     "name": "stdout",
     "output_type": "stream",
     "text": [
      "***** End frame: l0\n",
      "Link 0\n"
     ]
    },
    {
     "data": {
      "text/plain": [
       "Matrix([\n",
       "[0.0],\n",
       "[0.0],\n",
       "[0.0],\n",
       "[1.0]])"
      ]
     },
     "metadata": {},
     "output_type": "display_data"
    },
    {
     "data": {
      "text/plain": [
       "Matrix([\n",
       "[0.8],\n",
       "[0.0],\n",
       "[0.0],\n",
       "[1.0]])"
      ]
     },
     "metadata": {},
     "output_type": "display_data"
    },
    {
     "data": {
      "text/plain": [
       "Matrix([\n",
       "[0.8],\n",
       "[0.0],\n",
       "[0.0],\n",
       "[0.0]])"
      ]
     },
     "metadata": {},
     "output_type": "display_data"
    },
    {
     "data": {
      "text/plain": [
       "Matrix([\n",
       "[-0.8*cos(0.0174532925199433*b1) - 0.8],\n",
       "[-0.8*sin(0.0174532925199433*b1) + 1.0],\n",
       "[                                  1.4],\n",
       "[                                    1]])"
      ]
     },
     "metadata": {},
     "output_type": "display_data"
    },
    {
     "name": "stdout",
     "output_type": "stream",
     "text": [
      "Es: (4, 1)\n"
     ]
    },
    {
     "data": {
      "text/plain": [
       "Matrix([\n",
       "[0, 0,                  0, 0],\n",
       "[0, 0, 0.0139626340159546, 0],\n",
       "[0, 0,                  0, 0],\n",
       "[0, 0,                  0, 0]])"
      ]
     },
     "metadata": {},
     "output_type": "display_data"
    },
    {
     "name": "stdout",
     "output_type": "stream",
     "text": [
      "Js: (4, 4)\n"
     ]
    },
    {
     "data": {
      "text/plain": [
       "Matrix([\n",
       "[                                                                    0],\n",
       "[                                                                    0],\n",
       "[-5.58505360638185e-5*sin(0.0174532925199433*b1) + 6.98131700797732e-5],\n",
       "[                                                                    0]])"
      ]
     },
     "metadata": {},
     "output_type": "display_data"
    },
    {
     "ename": "TypeError",
     "evalue": "cannot add <class 'sympy.matrices.dense.MutableDenseMatrix'> and <type 'dict'>",
     "output_type": "error",
     "traceback": [
      "\u001b[0;31m---------------------------------------------------------------------------\u001b[0m",
      "\u001b[0;31mTypeError\u001b[0m                                 Traceback (most recent call last)",
      "\u001b[0;32m<ipython-input-4-5daf6ab678fc>\u001b[0m in \u001b[0;36m<module>\u001b[0;34m()\u001b[0m\n\u001b[1;32m    111\u001b[0m \u001b[0marm\u001b[0m\u001b[0;34m.\u001b[0m\u001b[0mclap\u001b[0m\u001b[0;34m(\u001b[0m\u001b[0;34m)\u001b[0m\u001b[0;34m\u001b[0m\u001b[0m\n\u001b[1;32m    112\u001b[0m \u001b[0;31m#Go up and left to grab something\u001b[0m\u001b[0;34m\u001b[0m\u001b[0;34m\u001b[0m\u001b[0m\n\u001b[0;32m--> 113\u001b[0;31m \u001b[0marm\u001b[0m\u001b[0;34m.\u001b[0m\u001b[0mgotoPoint\u001b[0m\u001b[0;34m(\u001b[0m\u001b[0;34m-\u001b[0m\u001b[0;36m.80\u001b[0m\u001b[0;34m,\u001b[0m\u001b[0;36m1.0\u001b[0m\u001b[0;34m,\u001b[0m\u001b[0;36m1.4\u001b[0m\u001b[0;34m)\u001b[0m\u001b[0;34m;\u001b[0m\u001b[0;34m\u001b[0m\u001b[0m\n\u001b[0m\u001b[1;32m    114\u001b[0m \u001b[0marm\u001b[0m\u001b[0;34m.\u001b[0m\u001b[0mcloseGripper\u001b[0m\u001b[0;34m(\u001b[0m\u001b[0;34m)\u001b[0m\u001b[0;34m;\u001b[0m\u001b[0;34m\u001b[0m\u001b[0m\n\u001b[1;32m    115\u001b[0m \u001b[0;31m#Go down, forward and right to drop it\u001b[0m\u001b[0;34m\u001b[0m\u001b[0;34m\u001b[0m\u001b[0m\n",
      "\u001b[0;32m<ipython-input-4-5daf6ab678fc>\u001b[0m in \u001b[0;36mgotoPoint\u001b[0;34m(self, tx, ty, tz, steps)\u001b[0m\n\u001b[1;32m    106\u001b[0m             \u001b[0mdisplay\u001b[0m\u001b[0;34m(\u001b[0m\u001b[0mdQ\u001b[0m\u001b[0;34m)\u001b[0m\u001b[0;34m\u001b[0m\u001b[0m\n\u001b[1;32m    107\u001b[0m             \u001b[0;31m# and use it to update current values\u001b[0m\u001b[0;34m\u001b[0m\u001b[0;34m\u001b[0m\u001b[0m\n\u001b[0;32m--> 108\u001b[0;31m             \u001b[0mQ\u001b[0m \u001b[0;34m+=\u001b[0m  \u001b[0mdQ\u001b[0m\u001b[0;34m\u001b[0m\u001b[0m\n\u001b[0m\u001b[1;32m    109\u001b[0m \u001b[0;34m\u001b[0m\u001b[0m\n\u001b[1;32m    110\u001b[0m \u001b[0marm\u001b[0m \u001b[0;34m=\u001b[0m \u001b[0mMeArm\u001b[0m\u001b[0;34m(\u001b[0m\u001b[0;34m)\u001b[0m\u001b[0;34m\u001b[0m\u001b[0m\n",
      "\u001b[0;32m/home/mario/.virtualenvs/robo/lib/python2.7/site-packages/sympy/core/decorators.pyc\u001b[0m in \u001b[0;36mbinary_op_wrapper\u001b[0;34m(self, other)\u001b[0m\n\u001b[1;32m    130\u001b[0m                     \u001b[0;32melse\u001b[0m\u001b[0;34m:\u001b[0m\u001b[0;34m\u001b[0m\u001b[0m\n\u001b[1;32m    131\u001b[0m                         \u001b[0;32mreturn\u001b[0m \u001b[0mf\u001b[0m\u001b[0;34m(\u001b[0m\u001b[0mself\u001b[0m\u001b[0;34m)\u001b[0m\u001b[0;34m\u001b[0m\u001b[0m\n\u001b[0;32m--> 132\u001b[0;31m             \u001b[0;32mreturn\u001b[0m \u001b[0mfunc\u001b[0m\u001b[0;34m(\u001b[0m\u001b[0mself\u001b[0m\u001b[0;34m,\u001b[0m \u001b[0mother\u001b[0m\u001b[0;34m)\u001b[0m\u001b[0;34m\u001b[0m\u001b[0m\n\u001b[0m\u001b[1;32m    133\u001b[0m         \u001b[0;32mreturn\u001b[0m \u001b[0mbinary_op_wrapper\u001b[0m\u001b[0;34m\u001b[0m\u001b[0m\n\u001b[1;32m    134\u001b[0m     \u001b[0;32mreturn\u001b[0m \u001b[0mpriority_decorator\u001b[0m\u001b[0;34m\u001b[0m\u001b[0m\n",
      "\u001b[0;32m/home/mario/.virtualenvs/robo/lib/python2.7/site-packages/sympy/matrices/common.pyc\u001b[0m in \u001b[0;36m__radd__\u001b[0;34m(self, other)\u001b[0m\n\u001b[1;32m   2059\u001b[0m     \u001b[0;34m@\u001b[0m\u001b[0mcall_highest_priority\u001b[0m\u001b[0;34m(\u001b[0m\u001b[0;34m'__add__'\u001b[0m\u001b[0;34m)\u001b[0m\u001b[0;34m\u001b[0m\u001b[0m\n\u001b[1;32m   2060\u001b[0m     \u001b[0;32mdef\u001b[0m \u001b[0m__radd__\u001b[0m\u001b[0;34m(\u001b[0m\u001b[0mself\u001b[0m\u001b[0;34m,\u001b[0m \u001b[0mother\u001b[0m\u001b[0;34m)\u001b[0m\u001b[0;34m:\u001b[0m\u001b[0;34m\u001b[0m\u001b[0m\n\u001b[0;32m-> 2061\u001b[0;31m         \u001b[0;32mreturn\u001b[0m \u001b[0mself\u001b[0m \u001b[0;34m+\u001b[0m \u001b[0mother\u001b[0m\u001b[0;34m\u001b[0m\u001b[0m\n\u001b[0m\u001b[1;32m   2062\u001b[0m \u001b[0;34m\u001b[0m\u001b[0m\n\u001b[1;32m   2063\u001b[0m     \u001b[0;34m@\u001b[0m\u001b[0mcall_highest_priority\u001b[0m\u001b[0;34m(\u001b[0m\u001b[0;34m'__matmul__'\u001b[0m\u001b[0;34m)\u001b[0m\u001b[0;34m\u001b[0m\u001b[0m\n",
      "\u001b[0;32m/home/mario/.virtualenvs/robo/lib/python2.7/site-packages/sympy/core/decorators.pyc\u001b[0m in \u001b[0;36mbinary_op_wrapper\u001b[0;34m(self, other)\u001b[0m\n\u001b[1;32m    130\u001b[0m                     \u001b[0;32melse\u001b[0m\u001b[0;34m:\u001b[0m\u001b[0;34m\u001b[0m\u001b[0m\n\u001b[1;32m    131\u001b[0m                         \u001b[0;32mreturn\u001b[0m \u001b[0mf\u001b[0m\u001b[0;34m(\u001b[0m\u001b[0mself\u001b[0m\u001b[0;34m)\u001b[0m\u001b[0;34m\u001b[0m\u001b[0m\n\u001b[0;32m--> 132\u001b[0;31m             \u001b[0;32mreturn\u001b[0m \u001b[0mfunc\u001b[0m\u001b[0;34m(\u001b[0m\u001b[0mself\u001b[0m\u001b[0;34m,\u001b[0m \u001b[0mother\u001b[0m\u001b[0;34m)\u001b[0m\u001b[0;34m\u001b[0m\u001b[0m\n\u001b[0m\u001b[1;32m    133\u001b[0m         \u001b[0;32mreturn\u001b[0m \u001b[0mbinary_op_wrapper\u001b[0m\u001b[0;34m\u001b[0m\u001b[0m\n\u001b[1;32m    134\u001b[0m     \u001b[0;32mreturn\u001b[0m \u001b[0mpriority_decorator\u001b[0m\u001b[0;34m\u001b[0m\u001b[0m\n",
      "\u001b[0;32m/home/mario/.virtualenvs/robo/lib/python2.7/site-packages/sympy/matrices/common.pyc\u001b[0m in \u001b[0;36m__add__\u001b[0;34m(self, other)\u001b[0m\n\u001b[1;32m   1962\u001b[0m             \u001b[0;32mreturn\u001b[0m \u001b[0mMatrixArithmetic\u001b[0m\u001b[0;34m.\u001b[0m\u001b[0m_eval_add\u001b[0m\u001b[0;34m(\u001b[0m\u001b[0mself\u001b[0m\u001b[0;34m,\u001b[0m \u001b[0mother\u001b[0m\u001b[0;34m)\u001b[0m\u001b[0;34m\u001b[0m\u001b[0m\n\u001b[1;32m   1963\u001b[0m \u001b[0;34m\u001b[0m\u001b[0m\n\u001b[0;32m-> 1964\u001b[0;31m         \u001b[0;32mraise\u001b[0m \u001b[0mTypeError\u001b[0m\u001b[0;34m(\u001b[0m\u001b[0;34m'cannot add %s and %s'\u001b[0m \u001b[0;34m%\u001b[0m \u001b[0;34m(\u001b[0m\u001b[0mtype\u001b[0m\u001b[0;34m(\u001b[0m\u001b[0mself\u001b[0m\u001b[0;34m)\u001b[0m\u001b[0;34m,\u001b[0m \u001b[0mtype\u001b[0m\u001b[0;34m(\u001b[0m\u001b[0mother\u001b[0m\u001b[0;34m)\u001b[0m\u001b[0;34m)\u001b[0m\u001b[0;34m)\u001b[0m\u001b[0;34m\u001b[0m\u001b[0m\n\u001b[0m\u001b[1;32m   1965\u001b[0m \u001b[0;34m\u001b[0m\u001b[0m\n\u001b[1;32m   1966\u001b[0m     \u001b[0;34m@\u001b[0m\u001b[0mcall_highest_priority\u001b[0m\u001b[0;34m(\u001b[0m\u001b[0;34m'__rdiv__'\u001b[0m\u001b[0;34m)\u001b[0m\u001b[0;34m\u001b[0m\u001b[0m\n",
      "\u001b[0;31mTypeError\u001b[0m: cannot add <class 'sympy.matrices.dense.MutableDenseMatrix'> and <type 'dict'>"
     ]
    },
    {
     "data": {
      "image/png": "[encoded data removed]",
      "text/plain": [
       "<matplotlib.figure.Figure at 0x7f188e944f10>"
      ]
     },
     "metadata": {},
     "output_type": "display_data"
    }
   ],
   "source": [
    "from MeArm import ServoSB\n",
    "from links import MultiLink\n",
    "import numpy as np\n",
    "import sympy as sp\n",
    "import frames\n",
    "\n",
    "class MeArm(object):\n",
    "    def __init__(self):\n",
    "        # TODO: complete the DH parameters\n",
    "        self._lengths = [.80, #Shoulder to elbow length\n",
    "                         .80, #Elbow to wrist length\n",
    "                         .68] #Wrist to hand length\n",
    "        self._joints = {frames.SYMB(\"b1\"):0.0, \n",
    "                        frames.SYMB(\"s1\"):0.0, \n",
    "                        frames.SYMB(\"e1\"):0.0, \n",
    "                        frames.SYMB(\"g1\"):0.0}\n",
    "        # TODO: connect the servos to their pin and select the range of the angles\n",
    "        DUMMY_VAL = 1,0,180 # Remove this!\n",
    "        self.servos = {\"base\":ServoSB( *DUMMY_VAL ),\n",
    "                      \"shoulder\":ServoSB( *DUMMY_VAL ),\n",
    "                      \"elbow\":ServoSB( *DUMMY_VAL ),\n",
    "                      \"grip\":ServoSB( *DUMMY_VAL )}\n",
    "        \n",
    "        # Create the body using multilink code and DH parameters\n",
    "        \n",
    "        self._body = MultiLink()\n",
    "        _dh = {\"d\":[.0],\n",
    "               \"theta\":[\"s:b1\"],\n",
    "               \"r\":[self._lengths[0]],\n",
    "               \"alpha\":[.0]\n",
    "              }\n",
    "        self._body.fromDH(_dh)\n",
    "        self._body.compose(*self._joints.keys())\n",
    "        self._J = self._body.J.copy()\n",
    "\n",
    "    def base(self, angle):\n",
    "        #TODO: Move the servo to the desired angle\n",
    "        print \"Moving base to:\", angle\n",
    "        \n",
    "    def shoulder(self, angle):\n",
    "        #TODO: Move the servo to the desired angle\n",
    "        print \"Moving shoulder to:\", angle        \n",
    "    \n",
    "    def elbow(self, angle):\n",
    "        #TODO: Move the servo to the desired angle\n",
    "        print \"Moving elbow to:\", angle\n",
    "    \n",
    "    def gripper(self, angle):\n",
    "        #TODO: Move the servo to the desired angle\n",
    "        print \"Moving gripper to:\", angle   \n",
    "    \n",
    "    def openGripper(self):\n",
    "        #TODO: Move the servo to the angle that opens the gripper\n",
    "        print \"Grip open\"\n",
    "    \n",
    "    def closeGripper(self):\n",
    "        #TODO: Move the servo to the angle that closes the gripper\n",
    "        print \"Grip close\"\n",
    "    \n",
    "    def clap(self):\n",
    "        self.openGripper(); self.closeGripper()\n",
    "        self.openGripper(); self.closeGripper()\n",
    "        self.openGripper()        \n",
    "    \n",
    "    def readJoints(self):\n",
    "        # TODO: update joints values from motors\n",
    "        self._body.bindSymbols(self._joints)\n",
    "        return self._joints\n",
    "    \n",
    "    def getJacobian(self):\n",
    "        Q = self.readJoints()\n",
    "        return self._body.getJacobian()\n",
    "    \n",
    "    def move(self, **kwargs):\n",
    "        for k,v in kwargs.items():\n",
    "            print k, v\n",
    "    \n",
    "    def gotoPoint(self, tx, ty, tz, steps=500):\n",
    "        \"\"\" Simple control loop that uses the Jacobian\"\"\"\n",
    "        print \"Moving to:\",(tx,ty,tz)\n",
    "        for i in range (steps):\n",
    "            # Read current joint status\n",
    "            Q = self.readJoints()\n",
    "            display(Q)\n",
    "            \n",
    "            # Draw current robot position\n",
    "            self._body.plotLinks(Q)            \n",
    "            \n",
    "            # Get position in 3D space (DK)\n",
    "            pose = self._body.jointsToPosition(Q)            \n",
    "            # Get distance from target\n",
    "            E = sp.Matrix([[tx - pose[0]],\n",
    "                           [ty - pose[1]],\n",
    "                           [tz - pose[2]],\n",
    "                           [1]])\n",
    "            display(E)\n",
    "            print \"Es:\",E.shape\n",
    "            \n",
    "            #Compute jacobian\n",
    "            J = self.getJacobian()\n",
    "            display(J)\n",
    "            print \"Js:\",J.shape\n",
    "            \n",
    "            # Calculate joint change\n",
    "            dQ =  J.T * E*0.005\n",
    "            display(dQ)\n",
    "            # and use it to update current values\n",
    "            Q +=  dQ\n",
    "    \n",
    "arm = MeArm()\n",
    "arm.clap()\n",
    "#Go up and left to grab something\n",
    "arm.gotoPoint(-.80,1.0,1.4); \n",
    "arm.closeGripper();\n",
    "#Go down, forward and right to drop it\n",
    "arm.gotoPoint(.70,2.00,.10);\n",
    "arm.openGripper();\n",
    "#Back to start position\n",
    "arm.gotoPoint(0,1.00,.50);"
   ]
  },
  {
   "cell_type": "code",
   "execution_count": null,
   "metadata": {
    "collapsed": true
   },
   "outputs": [],
   "source": [
    "arm._body"
   ]
  },
  {
   "cell_type": "code",
   "execution_count": null,
   "metadata": {
    "collapsed": true
   },
   "outputs": [],
   "source": []
  },
  {
   "cell_type": "code",
   "execution_count": null,
   "metadata": {
    "collapsed": true
   },
   "outputs": [],
   "source": []
  }
 ],
 "metadata": {
  "kernelspec": {
   "display_name": "Python 2",
   "language": "python",
   "name": "python2"
  },
  "language_info": {
   "codemirror_mode": {
    "name": "ipython",
    "version": 2
   },
   "file_extension": ".py",
   "mimetype": "text/x-python",
   "name": "python",
   "nbconvert_exporter": "python",
   "pygments_lexer": "ipython2",
   "version": "2.7.14"
  }
 },
 "nbformat": 4,
 "nbformat_minor": 2
}
